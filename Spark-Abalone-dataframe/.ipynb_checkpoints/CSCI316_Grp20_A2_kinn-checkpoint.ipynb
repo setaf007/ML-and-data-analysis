{
 "cells": [
  {
   "cell_type": "markdown",
   "metadata": {},
   "source": [
    "**CSCI361 A2 Group**\n",
    "- The objective of this task is to develop a big data project in Apache Spark using Spark’s MLlib library to predict the cover types.\n",
    "- (a) “discover and visualise the data”, \n",
    "- (b) “prepare the data for machine learning algorithms”, \n",
    "- (c) “select and train models”, \n",
    "- (d) “fine-tune the models”\n",
    "- (e) “evaluate the outcomes”"
   ]
  },
  {
   "cell_type": "markdown",
   "metadata": {},
   "source": [
    "- Tan Shu Fei 7020466 \n",
    "- Chee Weii Zee 7020078 \n",
    "- Md Taskin Hossain 6650223"
   ]
  },
  {
   "cell_type": "markdown",
   "metadata": {},
   "source": [
    "___"
   ]
  },
  {
   "cell_type": "markdown",
   "metadata": {},
   "source": [
    "## A) Discover and Visualising the data"
   ]
  },
  {
   "cell_type": "code",
   "execution_count": 5,
   "metadata": {},
   "outputs": [],
   "source": [
    "# Import libraries\n",
    "import pandas as pd\n",
    "import numpy as np\n",
    "from pyspark.ml.tuning import CrossValidator, ParamGridBuilder"
   ]
  },
  {
   "cell_type": "code",
   "execution_count": 6,
   "metadata": {},
   "outputs": [
    {
     "data": {
      "text/html": [
       "\n",
       "            <div>\n",
       "                <p><b>SparkSession - in-memory</b></p>\n",
       "                \n",
       "        <div>\n",
       "            <p><b>SparkContext</b></p>\n",
       "\n",
       "            <p><a href=\"http://User-PC:4041\">Spark UI</a></p>\n",
       "\n",
       "            <dl>\n",
       "              <dt>Version</dt>\n",
       "                <dd><code>v3.2.1</code></dd>\n",
       "              <dt>Master</dt>\n",
       "                <dd><code>local[*]</code></dd>\n",
       "              <dt>AppName</dt>\n",
       "                <dd><code>CSCI316_Grp20_Assn2</code></dd>\n",
       "            </dl>\n",
       "        </div>\n",
       "        \n",
       "            </div>\n",
       "        "
      ],
      "text/plain": [
       "<pyspark.sql.session.SparkSession at 0x1e9bada08d0>"
      ]
     },
     "execution_count": 6,
     "metadata": {},
     "output_type": "execute_result"
    }
   ],
   "source": [
    "# Create spark session\n",
    "import findspark\n",
    "findspark.init()\n",
    "import pyspark\n",
    "from pyspark.sql import SparkSession\n",
    "spark = SparkSession.builder.appName('CSCI316_Grp20_Assn2').config('spark-master', 'local').getOrCreate()\n",
    "\n",
    "spark"
   ]
  },
  {
   "cell_type": "code",
   "execution_count": 7,
   "metadata": {},
   "outputs": [
    {
     "data": {
      "text/plain": [
       "DataFrame[Elevation: int, Aspect: int, Slope: int, Horizontal_Distance_To_Hydrology: int, Vertical_Distance_To_Hydrology: int, Horizontal_Distance_To_Roadways: int, Hillshade_9am: int, Hillshade_Noon: int, Hillshade_3pm: int, Horizontal_Distance_To_Fire_Points: int, Wilderness_Area_1: int, Wilderness_Area_2: int, Wilderness_Area_3: int, Wilderness_Area_4: int, Soil_Type_1: int, Soil_Type_2: int, Soil_Type_3: int, Soil_Type_4: int, Soil_Type_5: int, Soil_Type_6: int, Soil_Type_7: int, Soil_Type_8: int, Soil_Type_9: int, Soil_Type_10: int, Soil_Type_11: int, Soil_Type_12: int, Soil_Type_13: int, Soil_Type_14: int, Soil_Type_15: int, Soil_Type_16: int, Soil_Type_17: int, Soil_Type_18: int, Soil_Type_19: int, Soil_Type_20: int, Soil_Type_21: int, Soil_Type_22: int, Soil_Type_23: int, Soil_Type_24: int, Soil_Type_25: int, Soil_Type_26: int, Soil_Type_27: int, Soil_Type_28: int, Soil_Type_29: int, Soil_Type_30: int, Soil_Type_31: int, Soil_Type_32: int, Soil_Type_33: int, Soil_Type_34: int, Soil_Type_35: int, Soil_Type_36: int, Soil_Type_37: int, Soil_Type_38: int, Soil_Type_39: int, Soil_Type_40: int, Cover_Type: int]"
      ]
     },
     "execution_count": 7,
     "metadata": {},
     "output_type": "execute_result"
    }
   ],
   "source": [
    "# Import libraries\n",
    "from pyspark.sql.types import StructType, StructField, IntegerType\n",
    "\n",
    "# Column name of each header\n",
    "schema = StructType([\n",
    "    StructField(\"Elevation\", IntegerType(), True),\n",
    "    StructField(\"Aspect\", IntegerType(), True),\n",
    "    StructField(\"Slope\", IntegerType(), True),\n",
    "    StructField(\"Horizontal_Distance_To_Hydrology\", IntegerType(), True),\n",
    "    StructField(\"Vertical_Distance_To_Hydrology\", IntegerType(), True),\n",
    "    StructField(\"Horizontal_Distance_To_Roadways\", IntegerType(), True),\n",
    "    StructField(\"Hillshade_9am\", IntegerType(), True),\n",
    "    StructField(\"Hillshade_Noon\", IntegerType(), True),\n",
    "    StructField(\"Hillshade_3pm\", IntegerType(), True),\n",
    "    StructField(\"Horizontal_Distance_To_Fire_Points\", IntegerType(), True),\n",
    "    StructField(\"Wilderness_Area_1\", IntegerType(), True),\n",
    "    StructField(\"Wilderness_Area_2\", IntegerType(), True),\n",
    "    StructField(\"Wilderness_Area_3\", IntegerType(), True),\n",
    "    StructField(\"Wilderness_Area_4\", IntegerType(), True),\n",
    "    StructField(\"Soil_Type_1\", IntegerType(), True), StructField(\"Soil_Type_2\", IntegerType(), True),\n",
    "    StructField(\"Soil_Type_3\", IntegerType(), True), StructField(\"Soil_Type_4\", IntegerType(), True),\n",
    "    StructField(\"Soil_Type_5\", IntegerType(), True), StructField(\"Soil_Type_6\", IntegerType(), True),\n",
    "    StructField(\"Soil_Type_7\", IntegerType(), True), StructField(\"Soil_Type_8\", IntegerType(), True),\n",
    "    StructField(\"Soil_Type_9\", IntegerType(), True), StructField(\"Soil_Type_10\", IntegerType(), True),\n",
    "    StructField(\"Soil_Type_11\", IntegerType(), True), StructField(\"Soil_Type_12\", IntegerType(), True),\n",
    "    StructField(\"Soil_Type_13\", IntegerType(), True), StructField(\"Soil_Type_14\", IntegerType(), True),\n",
    "    StructField(\"Soil_Type_15\", IntegerType(), True), StructField(\"Soil_Type_16\", IntegerType(), True),\n",
    "    StructField(\"Soil_Type_17\", IntegerType(), True), StructField(\"Soil_Type_18\", IntegerType(), True),\n",
    "    StructField(\"Soil_Type_19\", IntegerType(), True), StructField(\"Soil_Type_20\", IntegerType(), True),\n",
    "    StructField(\"Soil_Type_21\", IntegerType(), True), StructField(\"Soil_Type_22\", IntegerType(), True),\n",
    "    StructField(\"Soil_Type_23\", IntegerType(), True), StructField(\"Soil_Type_24\", IntegerType(), True),\n",
    "    StructField(\"Soil_Type_25\", IntegerType(), True), StructField(\"Soil_Type_26\", IntegerType(), True),\n",
    "    StructField(\"Soil_Type_27\", IntegerType(), True), StructField(\"Soil_Type_28\", IntegerType(), True),\n",
    "    StructField(\"Soil_Type_29\", IntegerType(), True), StructField(\"Soil_Type_30\", IntegerType(), True),\n",
    "    StructField(\"Soil_Type_31\", IntegerType(), True), StructField(\"Soil_Type_32\", IntegerType(), True),\n",
    "    StructField(\"Soil_Type_33\", IntegerType(), True), StructField(\"Soil_Type_34\", IntegerType(), True),\n",
    "    StructField(\"Soil_Type_35\", IntegerType(), True), StructField(\"Soil_Type_36\", IntegerType(), True),\n",
    "    StructField(\"Soil_Type_37\", IntegerType(), True), StructField(\"Soil_Type_38\", IntegerType(), True),\n",
    "    StructField(\"Soil_Type_39\", IntegerType(), True), StructField(\"Soil_Type_40\", IntegerType(), True),\n",
    "    StructField(\"Cover_Type\", IntegerType(), True)])\n",
    "\n",
    "# Reading .data file\n",
    "df = spark.read.csv('covtype.data', header = False, schema = schema)\n",
    "\n",
    "#Print the database\n",
    "df"
   ]
  },
  {
   "cell_type": "code",
   "execution_count": 8,
   "metadata": {},
   "outputs": [
    {
     "data": {
      "text/html": [
       "<div>\n",
       "<style scoped>\n",
       "    .dataframe tbody tr th:only-of-type {\n",
       "        vertical-align: middle;\n",
       "    }\n",
       "\n",
       "    .dataframe tbody tr th {\n",
       "        vertical-align: top;\n",
       "    }\n",
       "\n",
       "    .dataframe thead th {\n",
       "        text-align: right;\n",
       "    }\n",
       "</style>\n",
       "<table border=\"1\" class=\"dataframe\">\n",
       "  <thead>\n",
       "    <tr style=\"text-align: right;\">\n",
       "      <th></th>\n",
       "      <th>Elevation</th>\n",
       "      <th>Aspect</th>\n",
       "      <th>Slope</th>\n",
       "      <th>Horizontal_Distance_To_Hydrology</th>\n",
       "      <th>Vertical_Distance_To_Hydrology</th>\n",
       "      <th>Horizontal_Distance_To_Roadways</th>\n",
       "      <th>Hillshade_9am</th>\n",
       "      <th>Hillshade_Noon</th>\n",
       "      <th>Hillshade_3pm</th>\n",
       "      <th>Horizontal_Distance_To_Fire_Points</th>\n",
       "      <th>...</th>\n",
       "      <th>Soil_Type_32</th>\n",
       "      <th>Soil_Type_33</th>\n",
       "      <th>Soil_Type_34</th>\n",
       "      <th>Soil_Type_35</th>\n",
       "      <th>Soil_Type_36</th>\n",
       "      <th>Soil_Type_37</th>\n",
       "      <th>Soil_Type_38</th>\n",
       "      <th>Soil_Type_39</th>\n",
       "      <th>Soil_Type_40</th>\n",
       "      <th>Cover_Type</th>\n",
       "    </tr>\n",
       "  </thead>\n",
       "  <tbody>\n",
       "    <tr>\n",
       "      <th>0</th>\n",
       "      <td>2596</td>\n",
       "      <td>51</td>\n",
       "      <td>3</td>\n",
       "      <td>258</td>\n",
       "      <td>0</td>\n",
       "      <td>510</td>\n",
       "      <td>221</td>\n",
       "      <td>232</td>\n",
       "      <td>148</td>\n",
       "      <td>6279</td>\n",
       "      <td>...</td>\n",
       "      <td>0</td>\n",
       "      <td>0</td>\n",
       "      <td>0</td>\n",
       "      <td>0</td>\n",
       "      <td>0</td>\n",
       "      <td>0</td>\n",
       "      <td>0</td>\n",
       "      <td>0</td>\n",
       "      <td>0</td>\n",
       "      <td>5</td>\n",
       "    </tr>\n",
       "    <tr>\n",
       "      <th>1</th>\n",
       "      <td>2590</td>\n",
       "      <td>56</td>\n",
       "      <td>2</td>\n",
       "      <td>212</td>\n",
       "      <td>-6</td>\n",
       "      <td>390</td>\n",
       "      <td>220</td>\n",
       "      <td>235</td>\n",
       "      <td>151</td>\n",
       "      <td>6225</td>\n",
       "      <td>...</td>\n",
       "      <td>0</td>\n",
       "      <td>0</td>\n",
       "      <td>0</td>\n",
       "      <td>0</td>\n",
       "      <td>0</td>\n",
       "      <td>0</td>\n",
       "      <td>0</td>\n",
       "      <td>0</td>\n",
       "      <td>0</td>\n",
       "      <td>5</td>\n",
       "    </tr>\n",
       "    <tr>\n",
       "      <th>2</th>\n",
       "      <td>2804</td>\n",
       "      <td>139</td>\n",
       "      <td>9</td>\n",
       "      <td>268</td>\n",
       "      <td>65</td>\n",
       "      <td>3180</td>\n",
       "      <td>234</td>\n",
       "      <td>238</td>\n",
       "      <td>135</td>\n",
       "      <td>6121</td>\n",
       "      <td>...</td>\n",
       "      <td>0</td>\n",
       "      <td>0</td>\n",
       "      <td>0</td>\n",
       "      <td>0</td>\n",
       "      <td>0</td>\n",
       "      <td>0</td>\n",
       "      <td>0</td>\n",
       "      <td>0</td>\n",
       "      <td>0</td>\n",
       "      <td>2</td>\n",
       "    </tr>\n",
       "    <tr>\n",
       "      <th>3</th>\n",
       "      <td>2785</td>\n",
       "      <td>155</td>\n",
       "      <td>18</td>\n",
       "      <td>242</td>\n",
       "      <td>118</td>\n",
       "      <td>3090</td>\n",
       "      <td>238</td>\n",
       "      <td>238</td>\n",
       "      <td>122</td>\n",
       "      <td>6211</td>\n",
       "      <td>...</td>\n",
       "      <td>0</td>\n",
       "      <td>0</td>\n",
       "      <td>0</td>\n",
       "      <td>0</td>\n",
       "      <td>0</td>\n",
       "      <td>0</td>\n",
       "      <td>0</td>\n",
       "      <td>0</td>\n",
       "      <td>0</td>\n",
       "      <td>2</td>\n",
       "    </tr>\n",
       "    <tr>\n",
       "      <th>4</th>\n",
       "      <td>2595</td>\n",
       "      <td>45</td>\n",
       "      <td>2</td>\n",
       "      <td>153</td>\n",
       "      <td>-1</td>\n",
       "      <td>391</td>\n",
       "      <td>220</td>\n",
       "      <td>234</td>\n",
       "      <td>150</td>\n",
       "      <td>6172</td>\n",
       "      <td>...</td>\n",
       "      <td>0</td>\n",
       "      <td>0</td>\n",
       "      <td>0</td>\n",
       "      <td>0</td>\n",
       "      <td>0</td>\n",
       "      <td>0</td>\n",
       "      <td>0</td>\n",
       "      <td>0</td>\n",
       "      <td>0</td>\n",
       "      <td>5</td>\n",
       "    </tr>\n",
       "    <tr>\n",
       "      <th>...</th>\n",
       "      <td>...</td>\n",
       "      <td>...</td>\n",
       "      <td>...</td>\n",
       "      <td>...</td>\n",
       "      <td>...</td>\n",
       "      <td>...</td>\n",
       "      <td>...</td>\n",
       "      <td>...</td>\n",
       "      <td>...</td>\n",
       "      <td>...</td>\n",
       "      <td>...</td>\n",
       "      <td>...</td>\n",
       "      <td>...</td>\n",
       "      <td>...</td>\n",
       "      <td>...</td>\n",
       "      <td>...</td>\n",
       "      <td>...</td>\n",
       "      <td>...</td>\n",
       "      <td>...</td>\n",
       "      <td>...</td>\n",
       "      <td>...</td>\n",
       "    </tr>\n",
       "    <tr>\n",
       "      <th>581007</th>\n",
       "      <td>2396</td>\n",
       "      <td>153</td>\n",
       "      <td>20</td>\n",
       "      <td>85</td>\n",
       "      <td>17</td>\n",
       "      <td>108</td>\n",
       "      <td>240</td>\n",
       "      <td>237</td>\n",
       "      <td>118</td>\n",
       "      <td>837</td>\n",
       "      <td>...</td>\n",
       "      <td>0</td>\n",
       "      <td>0</td>\n",
       "      <td>0</td>\n",
       "      <td>0</td>\n",
       "      <td>0</td>\n",
       "      <td>0</td>\n",
       "      <td>0</td>\n",
       "      <td>0</td>\n",
       "      <td>0</td>\n",
       "      <td>3</td>\n",
       "    </tr>\n",
       "    <tr>\n",
       "      <th>581008</th>\n",
       "      <td>2391</td>\n",
       "      <td>152</td>\n",
       "      <td>19</td>\n",
       "      <td>67</td>\n",
       "      <td>12</td>\n",
       "      <td>95</td>\n",
       "      <td>240</td>\n",
       "      <td>237</td>\n",
       "      <td>119</td>\n",
       "      <td>845</td>\n",
       "      <td>...</td>\n",
       "      <td>0</td>\n",
       "      <td>0</td>\n",
       "      <td>0</td>\n",
       "      <td>0</td>\n",
       "      <td>0</td>\n",
       "      <td>0</td>\n",
       "      <td>0</td>\n",
       "      <td>0</td>\n",
       "      <td>0</td>\n",
       "      <td>3</td>\n",
       "    </tr>\n",
       "    <tr>\n",
       "      <th>581009</th>\n",
       "      <td>2386</td>\n",
       "      <td>159</td>\n",
       "      <td>17</td>\n",
       "      <td>60</td>\n",
       "      <td>7</td>\n",
       "      <td>90</td>\n",
       "      <td>236</td>\n",
       "      <td>241</td>\n",
       "      <td>130</td>\n",
       "      <td>854</td>\n",
       "      <td>...</td>\n",
       "      <td>0</td>\n",
       "      <td>0</td>\n",
       "      <td>0</td>\n",
       "      <td>0</td>\n",
       "      <td>0</td>\n",
       "      <td>0</td>\n",
       "      <td>0</td>\n",
       "      <td>0</td>\n",
       "      <td>0</td>\n",
       "      <td>3</td>\n",
       "    </tr>\n",
       "    <tr>\n",
       "      <th>581010</th>\n",
       "      <td>2384</td>\n",
       "      <td>170</td>\n",
       "      <td>15</td>\n",
       "      <td>60</td>\n",
       "      <td>5</td>\n",
       "      <td>90</td>\n",
       "      <td>230</td>\n",
       "      <td>245</td>\n",
       "      <td>143</td>\n",
       "      <td>864</td>\n",
       "      <td>...</td>\n",
       "      <td>0</td>\n",
       "      <td>0</td>\n",
       "      <td>0</td>\n",
       "      <td>0</td>\n",
       "      <td>0</td>\n",
       "      <td>0</td>\n",
       "      <td>0</td>\n",
       "      <td>0</td>\n",
       "      <td>0</td>\n",
       "      <td>3</td>\n",
       "    </tr>\n",
       "    <tr>\n",
       "      <th>581011</th>\n",
       "      <td>2383</td>\n",
       "      <td>165</td>\n",
       "      <td>13</td>\n",
       "      <td>60</td>\n",
       "      <td>4</td>\n",
       "      <td>67</td>\n",
       "      <td>231</td>\n",
       "      <td>244</td>\n",
       "      <td>141</td>\n",
       "      <td>875</td>\n",
       "      <td>...</td>\n",
       "      <td>0</td>\n",
       "      <td>0</td>\n",
       "      <td>0</td>\n",
       "      <td>0</td>\n",
       "      <td>0</td>\n",
       "      <td>0</td>\n",
       "      <td>0</td>\n",
       "      <td>0</td>\n",
       "      <td>0</td>\n",
       "      <td>3</td>\n",
       "    </tr>\n",
       "  </tbody>\n",
       "</table>\n",
       "<p>581012 rows × 55 columns</p>\n",
       "</div>"
      ],
      "text/plain": [
       "        Elevation  Aspect  Slope  Horizontal_Distance_To_Hydrology  \\\n",
       "0            2596      51      3                               258   \n",
       "1            2590      56      2                               212   \n",
       "2            2804     139      9                               268   \n",
       "3            2785     155     18                               242   \n",
       "4            2595      45      2                               153   \n",
       "...           ...     ...    ...                               ...   \n",
       "581007       2396     153     20                                85   \n",
       "581008       2391     152     19                                67   \n",
       "581009       2386     159     17                                60   \n",
       "581010       2384     170     15                                60   \n",
       "581011       2383     165     13                                60   \n",
       "\n",
       "        Vertical_Distance_To_Hydrology  Horizontal_Distance_To_Roadways  \\\n",
       "0                                    0                              510   \n",
       "1                                   -6                              390   \n",
       "2                                   65                             3180   \n",
       "3                                  118                             3090   \n",
       "4                                   -1                              391   \n",
       "...                                ...                              ...   \n",
       "581007                              17                              108   \n",
       "581008                              12                               95   \n",
       "581009                               7                               90   \n",
       "581010                               5                               90   \n",
       "581011                               4                               67   \n",
       "\n",
       "        Hillshade_9am  Hillshade_Noon  Hillshade_3pm  \\\n",
       "0                 221             232            148   \n",
       "1                 220             235            151   \n",
       "2                 234             238            135   \n",
       "3                 238             238            122   \n",
       "4                 220             234            150   \n",
       "...               ...             ...            ...   \n",
       "581007            240             237            118   \n",
       "581008            240             237            119   \n",
       "581009            236             241            130   \n",
       "581010            230             245            143   \n",
       "581011            231             244            141   \n",
       "\n",
       "        Horizontal_Distance_To_Fire_Points  ...  Soil_Type_32  Soil_Type_33  \\\n",
       "0                                     6279  ...             0             0   \n",
       "1                                     6225  ...             0             0   \n",
       "2                                     6121  ...             0             0   \n",
       "3                                     6211  ...             0             0   \n",
       "4                                     6172  ...             0             0   \n",
       "...                                    ...  ...           ...           ...   \n",
       "581007                                 837  ...             0             0   \n",
       "581008                                 845  ...             0             0   \n",
       "581009                                 854  ...             0             0   \n",
       "581010                                 864  ...             0             0   \n",
       "581011                                 875  ...             0             0   \n",
       "\n",
       "        Soil_Type_34  Soil_Type_35  Soil_Type_36  Soil_Type_37  Soil_Type_38  \\\n",
       "0                  0             0             0             0             0   \n",
       "1                  0             0             0             0             0   \n",
       "2                  0             0             0             0             0   \n",
       "3                  0             0             0             0             0   \n",
       "4                  0             0             0             0             0   \n",
       "...              ...           ...           ...           ...           ...   \n",
       "581007             0             0             0             0             0   \n",
       "581008             0             0             0             0             0   \n",
       "581009             0             0             0             0             0   \n",
       "581010             0             0             0             0             0   \n",
       "581011             0             0             0             0             0   \n",
       "\n",
       "        Soil_Type_39  Soil_Type_40  Cover_Type  \n",
       "0                  0             0           5  \n",
       "1                  0             0           5  \n",
       "2                  0             0           2  \n",
       "3                  0             0           2  \n",
       "4                  0             0           5  \n",
       "...              ...           ...         ...  \n",
       "581007             0             0           3  \n",
       "581008             0             0           3  \n",
       "581009             0             0           3  \n",
       "581010             0             0           3  \n",
       "581011             0             0           3  \n",
       "\n",
       "[581012 rows x 55 columns]"
      ]
     },
     "execution_count": 8,
     "metadata": {},
     "output_type": "execute_result"
    }
   ],
   "source": [
    "# Returns the contents of this DataFrame as Pandas\n",
    "df.toPandas()"
   ]
  },
  {
   "cell_type": "markdown",
   "metadata": {},
   "source": [
    "#### Check For NULL & Empty Values"
   ]
  },
  {
   "cell_type": "code",
   "execution_count": 9,
   "metadata": {},
   "outputs": [
    {
     "data": {
      "text/html": [
       "<div>\n",
       "<style scoped>\n",
       "    .dataframe tbody tr th:only-of-type {\n",
       "        vertical-align: middle;\n",
       "    }\n",
       "\n",
       "    .dataframe tbody tr th {\n",
       "        vertical-align: top;\n",
       "    }\n",
       "\n",
       "    .dataframe thead th {\n",
       "        text-align: right;\n",
       "    }\n",
       "</style>\n",
       "<table border=\"1\" class=\"dataframe\">\n",
       "  <thead>\n",
       "    <tr style=\"text-align: right;\">\n",
       "      <th></th>\n",
       "      <th>summary</th>\n",
       "      <th>Elevation</th>\n",
       "      <th>Aspect</th>\n",
       "      <th>Slope</th>\n",
       "      <th>Horizontal_Distance_To_Hydrology</th>\n",
       "      <th>Vertical_Distance_To_Hydrology</th>\n",
       "      <th>Horizontal_Distance_To_Roadways</th>\n",
       "      <th>Hillshade_9am</th>\n",
       "      <th>Hillshade_Noon</th>\n",
       "      <th>Hillshade_3pm</th>\n",
       "      <th>...</th>\n",
       "      <th>Soil_Type_32</th>\n",
       "      <th>Soil_Type_33</th>\n",
       "      <th>Soil_Type_34</th>\n",
       "      <th>Soil_Type_35</th>\n",
       "      <th>Soil_Type_36</th>\n",
       "      <th>Soil_Type_37</th>\n",
       "      <th>Soil_Type_38</th>\n",
       "      <th>Soil_Type_39</th>\n",
       "      <th>Soil_Type_40</th>\n",
       "      <th>Cover_Type</th>\n",
       "    </tr>\n",
       "  </thead>\n",
       "  <tbody>\n",
       "    <tr>\n",
       "      <th>0</th>\n",
       "      <td>count</td>\n",
       "      <td>581012</td>\n",
       "      <td>581012</td>\n",
       "      <td>581012</td>\n",
       "      <td>581012</td>\n",
       "      <td>581012</td>\n",
       "      <td>581012</td>\n",
       "      <td>581012</td>\n",
       "      <td>581012</td>\n",
       "      <td>581012</td>\n",
       "      <td>...</td>\n",
       "      <td>581012</td>\n",
       "      <td>581012</td>\n",
       "      <td>581012</td>\n",
       "      <td>581012</td>\n",
       "      <td>581012</td>\n",
       "      <td>581012</td>\n",
       "      <td>581012</td>\n",
       "      <td>581012</td>\n",
       "      <td>581012</td>\n",
       "      <td>581012</td>\n",
       "    </tr>\n",
       "    <tr>\n",
       "      <th>1</th>\n",
       "      <td>mean</td>\n",
       "      <td>2959.365300544567</td>\n",
       "      <td>155.65680743254873</td>\n",
       "      <td>14.103703537964792</td>\n",
       "      <td>269.42821662891646</td>\n",
       "      <td>46.418855376481034</td>\n",
       "      <td>2350.1466114297123</td>\n",
       "      <td>212.14604861861716</td>\n",
       "      <td>223.31871630878535</td>\n",
       "      <td>142.52826275533036</td>\n",
       "      <td>...</td>\n",
       "      <td>0.09039228105443606</td>\n",
       "      <td>0.07771612290279718</td>\n",
       "      <td>0.0027727482392790512</td>\n",
       "      <td>0.0032546659965714993</td>\n",
       "      <td>2.0481504684929054E-4</td>\n",
       "      <td>5.128981845469629E-4</td>\n",
       "      <td>0.026803232979697493</td>\n",
       "      <td>0.02376198770421265</td>\n",
       "      <td>0.01505992991538901</td>\n",
       "      <td>2.051470537613681</td>\n",
       "    </tr>\n",
       "    <tr>\n",
       "      <th>2</th>\n",
       "      <td>stddev</td>\n",
       "      <td>279.9847342506358</td>\n",
       "      <td>111.91372100329563</td>\n",
       "      <td>7.4882418144801335</td>\n",
       "      <td>212.54935559508127</td>\n",
       "      <td>58.295231626887094</td>\n",
       "      <td>1559.2548698976063</td>\n",
       "      <td>26.769888805282168</td>\n",
       "      <td>19.768697153666434</td>\n",
       "      <td>38.27452923141074</td>\n",
       "      <td>...</td>\n",
       "      <td>0.28674319188914293</td>\n",
       "      <td>0.267724579574964</td>\n",
       "      <td>0.05258388408562186</td>\n",
       "      <td>0.05695681459947708</td>\n",
       "      <td>0.014309907410203396</td>\n",
       "      <td>0.022641466434728225</td>\n",
       "      <td>0.16150809446310438</td>\n",
       "      <td>0.15230691241832478</td>\n",
       "      <td>0.1217914363007141</td>\n",
       "      <td>1.396504316079408</td>\n",
       "    </tr>\n",
       "    <tr>\n",
       "      <th>3</th>\n",
       "      <td>min</td>\n",
       "      <td>1859</td>\n",
       "      <td>0</td>\n",
       "      <td>0</td>\n",
       "      <td>0</td>\n",
       "      <td>-173</td>\n",
       "      <td>0</td>\n",
       "      <td>0</td>\n",
       "      <td>0</td>\n",
       "      <td>0</td>\n",
       "      <td>...</td>\n",
       "      <td>0</td>\n",
       "      <td>0</td>\n",
       "      <td>0</td>\n",
       "      <td>0</td>\n",
       "      <td>0</td>\n",
       "      <td>0</td>\n",
       "      <td>0</td>\n",
       "      <td>0</td>\n",
       "      <td>0</td>\n",
       "      <td>1</td>\n",
       "    </tr>\n",
       "    <tr>\n",
       "      <th>4</th>\n",
       "      <td>max</td>\n",
       "      <td>3858</td>\n",
       "      <td>360</td>\n",
       "      <td>66</td>\n",
       "      <td>1397</td>\n",
       "      <td>601</td>\n",
       "      <td>7117</td>\n",
       "      <td>254</td>\n",
       "      <td>254</td>\n",
       "      <td>254</td>\n",
       "      <td>...</td>\n",
       "      <td>1</td>\n",
       "      <td>1</td>\n",
       "      <td>1</td>\n",
       "      <td>1</td>\n",
       "      <td>1</td>\n",
       "      <td>1</td>\n",
       "      <td>1</td>\n",
       "      <td>1</td>\n",
       "      <td>1</td>\n",
       "      <td>7</td>\n",
       "    </tr>\n",
       "  </tbody>\n",
       "</table>\n",
       "<p>5 rows × 56 columns</p>\n",
       "</div>"
      ],
      "text/plain": [
       "  summary          Elevation              Aspect               Slope  \\\n",
       "0   count             581012              581012              581012   \n",
       "1    mean  2959.365300544567  155.65680743254873  14.103703537964792   \n",
       "2  stddev  279.9847342506358  111.91372100329563  7.4882418144801335   \n",
       "3     min               1859                   0                   0   \n",
       "4     max               3858                 360                  66   \n",
       "\n",
       "  Horizontal_Distance_To_Hydrology Vertical_Distance_To_Hydrology  \\\n",
       "0                           581012                         581012   \n",
       "1               269.42821662891646             46.418855376481034   \n",
       "2               212.54935559508127             58.295231626887094   \n",
       "3                                0                           -173   \n",
       "4                             1397                            601   \n",
       "\n",
       "  Horizontal_Distance_To_Roadways       Hillshade_9am      Hillshade_Noon  \\\n",
       "0                          581012              581012              581012   \n",
       "1              2350.1466114297123  212.14604861861716  223.31871630878535   \n",
       "2              1559.2548698976063  26.769888805282168  19.768697153666434   \n",
       "3                               0                   0                   0   \n",
       "4                            7117                 254                 254   \n",
       "\n",
       "        Hillshade_3pm  ...         Soil_Type_32         Soil_Type_33  \\\n",
       "0              581012  ...               581012               581012   \n",
       "1  142.52826275533036  ...  0.09039228105443606  0.07771612290279718   \n",
       "2   38.27452923141074  ...  0.28674319188914293    0.267724579574964   \n",
       "3                   0  ...                    0                    0   \n",
       "4                 254  ...                    1                    1   \n",
       "\n",
       "            Soil_Type_34           Soil_Type_35           Soil_Type_36  \\\n",
       "0                 581012                 581012                 581012   \n",
       "1  0.0027727482392790512  0.0032546659965714993  2.0481504684929054E-4   \n",
       "2    0.05258388408562186    0.05695681459947708   0.014309907410203396   \n",
       "3                      0                      0                      0   \n",
       "4                      1                      1                      1   \n",
       "\n",
       "           Soil_Type_37          Soil_Type_38         Soil_Type_39  \\\n",
       "0                581012                581012               581012   \n",
       "1  5.128981845469629E-4  0.026803232979697493  0.02376198770421265   \n",
       "2  0.022641466434728225   0.16150809446310438  0.15230691241832478   \n",
       "3                     0                     0                    0   \n",
       "4                     1                     1                    1   \n",
       "\n",
       "          Soil_Type_40         Cover_Type  \n",
       "0               581012             581012  \n",
       "1  0.01505992991538901  2.051470537613681  \n",
       "2   0.1217914363007141  1.396504316079408  \n",
       "3                    0                  1  \n",
       "4                    1                  7  \n",
       "\n",
       "[5 rows x 56 columns]"
      ]
     },
     "execution_count": 9,
     "metadata": {},
     "output_type": "execute_result"
    }
   ],
   "source": [
    "df2 = df.replace('?', None).dropna(how='any')\n",
    "df2.describe().toPandas()"
   ]
  },
  {
   "cell_type": "code",
   "execution_count": 10,
   "metadata": {},
   "outputs": [
    {
     "data": {
      "text/plain": [
       "<bound method DataFrame.head of DataFrame[Elevation: int, Aspect: int, Slope: int, Horizontal_Distance_To_Hydrology: int, Vertical_Distance_To_Hydrology: int, Horizontal_Distance_To_Roadways: int, Hillshade_9am: int, Hillshade_Noon: int, Hillshade_3pm: int, Horizontal_Distance_To_Fire_Points: int, Wilderness_Area_1: int, Wilderness_Area_2: int, Wilderness_Area_3: int, Wilderness_Area_4: int, Soil_Type_1: int, Soil_Type_2: int, Soil_Type_3: int, Soil_Type_4: int, Soil_Type_5: int, Soil_Type_6: int, Soil_Type_7: int, Soil_Type_8: int, Soil_Type_9: int, Soil_Type_10: int, Soil_Type_11: int, Soil_Type_12: int, Soil_Type_13: int, Soil_Type_14: int, Soil_Type_15: int, Soil_Type_16: int, Soil_Type_17: int, Soil_Type_18: int, Soil_Type_19: int, Soil_Type_20: int, Soil_Type_21: int, Soil_Type_22: int, Soil_Type_23: int, Soil_Type_24: int, Soil_Type_25: int, Soil_Type_26: int, Soil_Type_27: int, Soil_Type_28: int, Soil_Type_29: int, Soil_Type_30: int, Soil_Type_31: int, Soil_Type_32: int, Soil_Type_33: int, Soil_Type_34: int, Soil_Type_35: int, Soil_Type_36: int, Soil_Type_37: int, Soil_Type_38: int, Soil_Type_39: int, Soil_Type_40: int, Cover_Type: int]>"
      ]
     },
     "execution_count": 10,
     "metadata": {},
     "output_type": "execute_result"
    }
   ],
   "source": [
    "# Check all data is in int or float before proceeding\n",
    "df2.head"
   ]
  },
  {
   "cell_type": "markdown",
   "metadata": {},
   "source": [
    "### Filter Needed Columns"
   ]
  },
  {
   "cell_type": "markdown",
   "metadata": {},
   "source": [
    "Features to be used for ML prediction of Cover Type converted to vector of features into a single column named features"
   ]
  },
  {
   "cell_type": "code",
   "execution_count": 11,
   "metadata": {},
   "outputs": [],
   "source": [
    "# Assemble all the features with VectorAssembler\n",
    "from pyspark.ml.feature import VectorAssembler\n",
    "\n",
    "# Filter out needed columns\n",
    "required_features = [\n",
    "                \"Elevation\", \"Aspect\", \"Slope\", \"Horizontal_Distance_To_Hydrology\",\n",
    "                \"Vertical_Distance_To_Hydrology\", \"Horizontal_Distance_To_Roadways\",\n",
    "                \"Hillshade_9am\", \"Hillshade_Noon\", \"Hillshade_3pm\",\n",
    "                \"Horizontal_Distance_To_Fire_Points\", \n",
    "                \"Wilderness_Area_1\", \"Wilderness_Area_2\",\n",
    "                \"Wilderness_Area_3\", \"Wilderness_Area_4\", \n",
    "                \"Soil_Type_1\", \"Soil_Type_2\", \"Soil_Type_3\", \"Soil_Type_4\", \"Soil_Type_5\", \n",
    "                \"Soil_Type_6\", \"Soil_Type_7\", \"Soil_Type_8\", \"Soil_Type_9\", \"Soil_Type_10\", \n",
    "                \"Soil_Type_11\", \"Soil_Type_12\", \"Soil_Type_13\", \"Soil_Type_14\", \"Soil_Type_15\", \n",
    "                \"Soil_Type_16\", \"Soil_Type_17\", \"Soil_Type_18\", \"Soil_Type_19\", \"Soil_Type_20\", \n",
    "                \"Soil_Type_21\", \"Soil_Type_22\", \"Soil_Type_23\", \"Soil_Type_24\", \"Soil_Type_25\", \n",
    "                \"Soil_Type_26\", \"Soil_Type_27\", \"Soil_Type_28\", \"Soil_Type_29\", \"Soil_Type_30\", \n",
    "                \"Soil_Type_31\", \"Soil_Type_32\", \"Soil_Type_33\", \"Soil_Type_34\", \"Soil_Type_35\", \n",
    "                \"Soil_Type_36\", \"Soil_Type_37\", \"Soil_Type_38\", \"Soil_Type_39\", \"Soil_Type_40\"\n",
    "                ]\n",
    "\n",
    "# Merges multiple columns into a vector column.\n",
    "assembler = VectorAssembler(inputCols=required_features, outputCol='features')\n",
    "\n",
    "# Returns an array of elements after merging\n",
    "transformed_data = assembler.transform(df2)"
   ]
  },
  {
   "cell_type": "code",
   "execution_count": 12,
   "metadata": {},
   "outputs": [
    {
     "data": {
      "text/html": [
       "<div>\n",
       "<style scoped>\n",
       "    .dataframe tbody tr th:only-of-type {\n",
       "        vertical-align: middle;\n",
       "    }\n",
       "\n",
       "    .dataframe tbody tr th {\n",
       "        vertical-align: top;\n",
       "    }\n",
       "\n",
       "    .dataframe thead th {\n",
       "        text-align: right;\n",
       "    }\n",
       "</style>\n",
       "<table border=\"1\" class=\"dataframe\">\n",
       "  <thead>\n",
       "    <tr style=\"text-align: right;\">\n",
       "      <th></th>\n",
       "      <th>Elevation</th>\n",
       "      <th>Aspect</th>\n",
       "      <th>Slope</th>\n",
       "      <th>Horizontal_Distance_To_Hydrology</th>\n",
       "      <th>Vertical_Distance_To_Hydrology</th>\n",
       "      <th>Horizontal_Distance_To_Roadways</th>\n",
       "      <th>Hillshade_9am</th>\n",
       "      <th>Hillshade_Noon</th>\n",
       "      <th>Hillshade_3pm</th>\n",
       "      <th>Horizontal_Distance_To_Fire_Points</th>\n",
       "      <th>...</th>\n",
       "      <th>Soil_Type_33</th>\n",
       "      <th>Soil_Type_34</th>\n",
       "      <th>Soil_Type_35</th>\n",
       "      <th>Soil_Type_36</th>\n",
       "      <th>Soil_Type_37</th>\n",
       "      <th>Soil_Type_38</th>\n",
       "      <th>Soil_Type_39</th>\n",
       "      <th>Soil_Type_40</th>\n",
       "      <th>Cover_Type</th>\n",
       "      <th>features</th>\n",
       "    </tr>\n",
       "  </thead>\n",
       "  <tbody>\n",
       "    <tr>\n",
       "      <th>0</th>\n",
       "      <td>2596</td>\n",
       "      <td>51</td>\n",
       "      <td>3</td>\n",
       "      <td>258</td>\n",
       "      <td>0</td>\n",
       "      <td>510</td>\n",
       "      <td>221</td>\n",
       "      <td>232</td>\n",
       "      <td>148</td>\n",
       "      <td>6279</td>\n",
       "      <td>...</td>\n",
       "      <td>0</td>\n",
       "      <td>0</td>\n",
       "      <td>0</td>\n",
       "      <td>0</td>\n",
       "      <td>0</td>\n",
       "      <td>0</td>\n",
       "      <td>0</td>\n",
       "      <td>0</td>\n",
       "      <td>5</td>\n",
       "      <td>(2596.0, 51.0, 3.0, 258.0, 0.0, 510.0, 221.0, ...</td>\n",
       "    </tr>\n",
       "    <tr>\n",
       "      <th>1</th>\n",
       "      <td>2590</td>\n",
       "      <td>56</td>\n",
       "      <td>2</td>\n",
       "      <td>212</td>\n",
       "      <td>-6</td>\n",
       "      <td>390</td>\n",
       "      <td>220</td>\n",
       "      <td>235</td>\n",
       "      <td>151</td>\n",
       "      <td>6225</td>\n",
       "      <td>...</td>\n",
       "      <td>0</td>\n",
       "      <td>0</td>\n",
       "      <td>0</td>\n",
       "      <td>0</td>\n",
       "      <td>0</td>\n",
       "      <td>0</td>\n",
       "      <td>0</td>\n",
       "      <td>0</td>\n",
       "      <td>5</td>\n",
       "      <td>(2590.0, 56.0, 2.0, 212.0, -6.0, 390.0, 220.0,...</td>\n",
       "    </tr>\n",
       "    <tr>\n",
       "      <th>2</th>\n",
       "      <td>2804</td>\n",
       "      <td>139</td>\n",
       "      <td>9</td>\n",
       "      <td>268</td>\n",
       "      <td>65</td>\n",
       "      <td>3180</td>\n",
       "      <td>234</td>\n",
       "      <td>238</td>\n",
       "      <td>135</td>\n",
       "      <td>6121</td>\n",
       "      <td>...</td>\n",
       "      <td>0</td>\n",
       "      <td>0</td>\n",
       "      <td>0</td>\n",
       "      <td>0</td>\n",
       "      <td>0</td>\n",
       "      <td>0</td>\n",
       "      <td>0</td>\n",
       "      <td>0</td>\n",
       "      <td>2</td>\n",
       "      <td>(2804.0, 139.0, 9.0, 268.0, 65.0, 3180.0, 234....</td>\n",
       "    </tr>\n",
       "    <tr>\n",
       "      <th>3</th>\n",
       "      <td>2785</td>\n",
       "      <td>155</td>\n",
       "      <td>18</td>\n",
       "      <td>242</td>\n",
       "      <td>118</td>\n",
       "      <td>3090</td>\n",
       "      <td>238</td>\n",
       "      <td>238</td>\n",
       "      <td>122</td>\n",
       "      <td>6211</td>\n",
       "      <td>...</td>\n",
       "      <td>0</td>\n",
       "      <td>0</td>\n",
       "      <td>0</td>\n",
       "      <td>0</td>\n",
       "      <td>0</td>\n",
       "      <td>0</td>\n",
       "      <td>0</td>\n",
       "      <td>0</td>\n",
       "      <td>2</td>\n",
       "      <td>(2785.0, 155.0, 18.0, 242.0, 118.0, 3090.0, 23...</td>\n",
       "    </tr>\n",
       "    <tr>\n",
       "      <th>4</th>\n",
       "      <td>2595</td>\n",
       "      <td>45</td>\n",
       "      <td>2</td>\n",
       "      <td>153</td>\n",
       "      <td>-1</td>\n",
       "      <td>391</td>\n",
       "      <td>220</td>\n",
       "      <td>234</td>\n",
       "      <td>150</td>\n",
       "      <td>6172</td>\n",
       "      <td>...</td>\n",
       "      <td>0</td>\n",
       "      <td>0</td>\n",
       "      <td>0</td>\n",
       "      <td>0</td>\n",
       "      <td>0</td>\n",
       "      <td>0</td>\n",
       "      <td>0</td>\n",
       "      <td>0</td>\n",
       "      <td>5</td>\n",
       "      <td>(2595.0, 45.0, 2.0, 153.0, -1.0, 391.0, 220.0,...</td>\n",
       "    </tr>\n",
       "    <tr>\n",
       "      <th>...</th>\n",
       "      <td>...</td>\n",
       "      <td>...</td>\n",
       "      <td>...</td>\n",
       "      <td>...</td>\n",
       "      <td>...</td>\n",
       "      <td>...</td>\n",
       "      <td>...</td>\n",
       "      <td>...</td>\n",
       "      <td>...</td>\n",
       "      <td>...</td>\n",
       "      <td>...</td>\n",
       "      <td>...</td>\n",
       "      <td>...</td>\n",
       "      <td>...</td>\n",
       "      <td>...</td>\n",
       "      <td>...</td>\n",
       "      <td>...</td>\n",
       "      <td>...</td>\n",
       "      <td>...</td>\n",
       "      <td>...</td>\n",
       "      <td>...</td>\n",
       "    </tr>\n",
       "    <tr>\n",
       "      <th>581007</th>\n",
       "      <td>2396</td>\n",
       "      <td>153</td>\n",
       "      <td>20</td>\n",
       "      <td>85</td>\n",
       "      <td>17</td>\n",
       "      <td>108</td>\n",
       "      <td>240</td>\n",
       "      <td>237</td>\n",
       "      <td>118</td>\n",
       "      <td>837</td>\n",
       "      <td>...</td>\n",
       "      <td>0</td>\n",
       "      <td>0</td>\n",
       "      <td>0</td>\n",
       "      <td>0</td>\n",
       "      <td>0</td>\n",
       "      <td>0</td>\n",
       "      <td>0</td>\n",
       "      <td>0</td>\n",
       "      <td>3</td>\n",
       "      <td>(2396.0, 153.0, 20.0, 85.0, 17.0, 108.0, 240.0...</td>\n",
       "    </tr>\n",
       "    <tr>\n",
       "      <th>581008</th>\n",
       "      <td>2391</td>\n",
       "      <td>152</td>\n",
       "      <td>19</td>\n",
       "      <td>67</td>\n",
       "      <td>12</td>\n",
       "      <td>95</td>\n",
       "      <td>240</td>\n",
       "      <td>237</td>\n",
       "      <td>119</td>\n",
       "      <td>845</td>\n",
       "      <td>...</td>\n",
       "      <td>0</td>\n",
       "      <td>0</td>\n",
       "      <td>0</td>\n",
       "      <td>0</td>\n",
       "      <td>0</td>\n",
       "      <td>0</td>\n",
       "      <td>0</td>\n",
       "      <td>0</td>\n",
       "      <td>3</td>\n",
       "      <td>(2391.0, 152.0, 19.0, 67.0, 12.0, 95.0, 240.0,...</td>\n",
       "    </tr>\n",
       "    <tr>\n",
       "      <th>581009</th>\n",
       "      <td>2386</td>\n",
       "      <td>159</td>\n",
       "      <td>17</td>\n",
       "      <td>60</td>\n",
       "      <td>7</td>\n",
       "      <td>90</td>\n",
       "      <td>236</td>\n",
       "      <td>241</td>\n",
       "      <td>130</td>\n",
       "      <td>854</td>\n",
       "      <td>...</td>\n",
       "      <td>0</td>\n",
       "      <td>0</td>\n",
       "      <td>0</td>\n",
       "      <td>0</td>\n",
       "      <td>0</td>\n",
       "      <td>0</td>\n",
       "      <td>0</td>\n",
       "      <td>0</td>\n",
       "      <td>3</td>\n",
       "      <td>(2386.0, 159.0, 17.0, 60.0, 7.0, 90.0, 236.0, ...</td>\n",
       "    </tr>\n",
       "    <tr>\n",
       "      <th>581010</th>\n",
       "      <td>2384</td>\n",
       "      <td>170</td>\n",
       "      <td>15</td>\n",
       "      <td>60</td>\n",
       "      <td>5</td>\n",
       "      <td>90</td>\n",
       "      <td>230</td>\n",
       "      <td>245</td>\n",
       "      <td>143</td>\n",
       "      <td>864</td>\n",
       "      <td>...</td>\n",
       "      <td>0</td>\n",
       "      <td>0</td>\n",
       "      <td>0</td>\n",
       "      <td>0</td>\n",
       "      <td>0</td>\n",
       "      <td>0</td>\n",
       "      <td>0</td>\n",
       "      <td>0</td>\n",
       "      <td>3</td>\n",
       "      <td>(2384.0, 170.0, 15.0, 60.0, 5.0, 90.0, 230.0, ...</td>\n",
       "    </tr>\n",
       "    <tr>\n",
       "      <th>581011</th>\n",
       "      <td>2383</td>\n",
       "      <td>165</td>\n",
       "      <td>13</td>\n",
       "      <td>60</td>\n",
       "      <td>4</td>\n",
       "      <td>67</td>\n",
       "      <td>231</td>\n",
       "      <td>244</td>\n",
       "      <td>141</td>\n",
       "      <td>875</td>\n",
       "      <td>...</td>\n",
       "      <td>0</td>\n",
       "      <td>0</td>\n",
       "      <td>0</td>\n",
       "      <td>0</td>\n",
       "      <td>0</td>\n",
       "      <td>0</td>\n",
       "      <td>0</td>\n",
       "      <td>0</td>\n",
       "      <td>3</td>\n",
       "      <td>(2383.0, 165.0, 13.0, 60.0, 4.0, 67.0, 231.0, ...</td>\n",
       "    </tr>\n",
       "  </tbody>\n",
       "</table>\n",
       "<p>581012 rows × 56 columns</p>\n",
       "</div>"
      ],
      "text/plain": [
       "        Elevation  Aspect  Slope  Horizontal_Distance_To_Hydrology  \\\n",
       "0            2596      51      3                               258   \n",
       "1            2590      56      2                               212   \n",
       "2            2804     139      9                               268   \n",
       "3            2785     155     18                               242   \n",
       "4            2595      45      2                               153   \n",
       "...           ...     ...    ...                               ...   \n",
       "581007       2396     153     20                                85   \n",
       "581008       2391     152     19                                67   \n",
       "581009       2386     159     17                                60   \n",
       "581010       2384     170     15                                60   \n",
       "581011       2383     165     13                                60   \n",
       "\n",
       "        Vertical_Distance_To_Hydrology  Horizontal_Distance_To_Roadways  \\\n",
       "0                                    0                              510   \n",
       "1                                   -6                              390   \n",
       "2                                   65                             3180   \n",
       "3                                  118                             3090   \n",
       "4                                   -1                              391   \n",
       "...                                ...                              ...   \n",
       "581007                              17                              108   \n",
       "581008                              12                               95   \n",
       "581009                               7                               90   \n",
       "581010                               5                               90   \n",
       "581011                               4                               67   \n",
       "\n",
       "        Hillshade_9am  Hillshade_Noon  Hillshade_3pm  \\\n",
       "0                 221             232            148   \n",
       "1                 220             235            151   \n",
       "2                 234             238            135   \n",
       "3                 238             238            122   \n",
       "4                 220             234            150   \n",
       "...               ...             ...            ...   \n",
       "581007            240             237            118   \n",
       "581008            240             237            119   \n",
       "581009            236             241            130   \n",
       "581010            230             245            143   \n",
       "581011            231             244            141   \n",
       "\n",
       "        Horizontal_Distance_To_Fire_Points  ...  Soil_Type_33  Soil_Type_34  \\\n",
       "0                                     6279  ...             0             0   \n",
       "1                                     6225  ...             0             0   \n",
       "2                                     6121  ...             0             0   \n",
       "3                                     6211  ...             0             0   \n",
       "4                                     6172  ...             0             0   \n",
       "...                                    ...  ...           ...           ...   \n",
       "581007                                 837  ...             0             0   \n",
       "581008                                 845  ...             0             0   \n",
       "581009                                 854  ...             0             0   \n",
       "581010                                 864  ...             0             0   \n",
       "581011                                 875  ...             0             0   \n",
       "\n",
       "        Soil_Type_35  Soil_Type_36  Soil_Type_37  Soil_Type_38  Soil_Type_39  \\\n",
       "0                  0             0             0             0             0   \n",
       "1                  0             0             0             0             0   \n",
       "2                  0             0             0             0             0   \n",
       "3                  0             0             0             0             0   \n",
       "4                  0             0             0             0             0   \n",
       "...              ...           ...           ...           ...           ...   \n",
       "581007             0             0             0             0             0   \n",
       "581008             0             0             0             0             0   \n",
       "581009             0             0             0             0             0   \n",
       "581010             0             0             0             0             0   \n",
       "581011             0             0             0             0             0   \n",
       "\n",
       "        Soil_Type_40  Cover_Type  \\\n",
       "0                  0           5   \n",
       "1                  0           5   \n",
       "2                  0           2   \n",
       "3                  0           2   \n",
       "4                  0           5   \n",
       "...              ...         ...   \n",
       "581007             0           3   \n",
       "581008             0           3   \n",
       "581009             0           3   \n",
       "581010             0           3   \n",
       "581011             0           3   \n",
       "\n",
       "                                                 features  \n",
       "0       (2596.0, 51.0, 3.0, 258.0, 0.0, 510.0, 221.0, ...  \n",
       "1       (2590.0, 56.0, 2.0, 212.0, -6.0, 390.0, 220.0,...  \n",
       "2       (2804.0, 139.0, 9.0, 268.0, 65.0, 3180.0, 234....  \n",
       "3       (2785.0, 155.0, 18.0, 242.0, 118.0, 3090.0, 23...  \n",
       "4       (2595.0, 45.0, 2.0, 153.0, -1.0, 391.0, 220.0,...  \n",
       "...                                                   ...  \n",
       "581007  (2396.0, 153.0, 20.0, 85.0, 17.0, 108.0, 240.0...  \n",
       "581008  (2391.0, 152.0, 19.0, 67.0, 12.0, 95.0, 240.0,...  \n",
       "581009  (2386.0, 159.0, 17.0, 60.0, 7.0, 90.0, 236.0, ...  \n",
       "581010  (2384.0, 170.0, 15.0, 60.0, 5.0, 90.0, 230.0, ...  \n",
       "581011  (2383.0, 165.0, 13.0, 60.0, 4.0, 67.0, 231.0, ...  \n",
       "\n",
       "[581012 rows x 56 columns]"
      ]
     },
     "execution_count": 12,
     "metadata": {},
     "output_type": "execute_result"
    }
   ],
   "source": [
    "# Returns the contents of this DataFrame as Pandas\n",
    "transformed_data.toPandas()"
   ]
  },
  {
   "cell_type": "code",
   "execution_count": 13,
   "metadata": {},
   "outputs": [
    {
     "name": "stdout",
     "output_type": "stream",
     "text": [
      "+--------------------+\n",
      "|            features|\n",
      "+--------------------+\n",
      "|(54,[0,1,2,3,5,6,...|\n",
      "|(54,[0,1,2,3,4,5,...|\n",
      "+--------------------+\n",
      "only showing top 2 rows\n",
      "\n"
     ]
    }
   ],
   "source": [
    "# See values in cols Features\n",
    "transformed_data.select(\"features\").show(2)"
   ]
  },
  {
   "cell_type": "code",
   "execution_count": 14,
   "metadata": {},
   "outputs": [
    {
     "data": {
      "text/plain": [
       "7"
      ]
     },
     "execution_count": 14,
     "metadata": {},
     "output_type": "execute_result"
    }
   ],
   "source": [
    "# Count number of elements in col Cover_Type\n",
    "transformed_data.select(\"Cover_Type\").distinct().count()"
   ]
  },
  {
   "cell_type": "markdown",
   "metadata": {},
   "source": [
    "New DB (model_data) that holds 2 columns, features (holding vectors of features to be used for ML) and label (renaming of Cover Type column)"
   ]
  },
  {
   "cell_type": "code",
   "execution_count": 15,
   "metadata": {},
   "outputs": [
    {
     "name": "stdout",
     "output_type": "stream",
     "text": [
      "+--------------------+-----+\n",
      "|            features|label|\n",
      "+--------------------+-----+\n",
      "|(54,[0,1,2,3,5,6,...|    5|\n",
      "|(54,[0,1,2,3,4,5,...|    5|\n",
      "|(54,[0,1,2,3,4,5,...|    2|\n",
      "|(54,[0,1,2,3,4,5,...|    2|\n",
      "|(54,[0,1,2,3,4,5,...|    5|\n",
      "+--------------------+-----+\n",
      "only showing top 5 rows\n",
      "\n"
     ]
    }
   ],
   "source": [
    "from pyspark.sql.functions import col\n",
    "\n",
    "exprs = [col(column).alias(column.replace(' ', '_')) for column in transformed_data.columns]\n",
    "\n",
    "model_data = transformed_data.select(*exprs).selectExpr(\"features as features\", \"Cover_Type as label\")\n",
    "model_data.show(5)"
   ]
  },
  {
   "cell_type": "markdown",
   "metadata": {},
   "source": [
    "___"
   ]
  },
  {
   "cell_type": "markdown",
   "metadata": {},
   "source": [
    "## B) Prepare the data for machine learning algorithms"
   ]
  },
  {
   "cell_type": "code",
   "execution_count": 266,
   "metadata": {},
   "outputs": [],
   "source": [
    "#from pyspark.sql import SparkSession\n",
    "#from pyspark.ml.feature import OneHotEncoder, StringIndexer, VectorAssembler\n",
    "\n",
    "#stage = []\n",
    "# for indexing and Encoding categorical columns\n",
    "#for Col in required_features:\n",
    "    #String_indexer = StringIndexer(inputCol = Col, outputCol = Col + 'Index')\n",
    "    #encode = OneHotEncoder(inputCols=[String_indexer.getOutputCol()], outputCols=[Col + \"classVec\"])\n",
    "    #stage += [String_indexer, encode]\n",
    "\n",
    "# assembling all the features \n",
    "#assemble = VectorAssembler(inputCols=required_features, outputCol=\"features\")\n",
    "#stage += [assemble]"
   ]
  },
  {
   "cell_type": "code",
   "execution_count": null,
   "metadata": {},
   "outputs": [],
   "source": []
  },
  {
   "cell_type": "markdown",
   "metadata": {},
   "source": [
    "___"
   ]
  },
  {
   "cell_type": "markdown",
   "metadata": {},
   "source": [
    "## C & D) Selecting, Training and Fine-Tuning the models"
   ]
  },
  {
   "cell_type": "markdown",
   "metadata": {},
   "source": [
    "### Modelling"
   ]
  },
  {
   "cell_type": "code",
   "execution_count": 1,
   "metadata": {},
   "outputs": [],
   "source": [
    "# Import LinearRegression class\n",
    "#from pyspark.ml.regression import LinearRegression\n",
    "\n",
    "# Define LinearRegression algorithm\n",
    "#lr = LinearRegression()\n",
    "\n",
    "# Fit 2 models, using different regularization parameters\n",
    "#modelA = lr.fit(model_data, {lr.regParam:0.0})\n",
    "#modelB = lr.fit(model_data, {lr.regParam:100.0})"
   ]
  },
  {
   "cell_type": "markdown",
   "metadata": {},
   "source": [
    "#### Get Predictions After Fitting"
   ]
  },
  {
   "cell_type": "code",
   "execution_count": 2,
   "metadata": {},
   "outputs": [],
   "source": [
    "# Make predictions\n",
    "#predictionsA = modelA.transform(model_data)\n",
    "#predictionsA.show()"
   ]
  },
  {
   "cell_type": "code",
   "execution_count": 3,
   "metadata": {},
   "outputs": [],
   "source": [
    "# Count num of label \n",
    "#model_data.groupBy('label').count().show()"
   ]
  },
  {
   "cell_type": "markdown",
   "metadata": {},
   "source": [
    "___"
   ]
  },
  {
   "cell_type": "markdown",
   "metadata": {},
   "source": [
    "## Stratified Sampling & Training\n",
    "- takes samples from train and subdivide into smaller groups called strata.\n",
    "- takes random samples from stratified groups\n",
    "- more precise metric & helps to have a better representation of the overall data"
   ]
  },
  {
   "cell_type": "markdown",
   "metadata": {},
   "source": [
    "#### Stratified Sampling over Simplified Random Sampling\n",
    "1. Simple random sampling are randomly selected from the population & placed into sample.\n",
    "2. It is an unbiased representation of the population.\n",
    "3. More advantageous when population cant be organized into subgroups; too much differences in population\n",
    "<br>\n",
    "3. Stratified Sampling randomly breaks down the population into subgroups & organized by traits, characterisics and behavior. \n",
    "4. It is more advantageous when dataset varies widely which helps to organize samples better."
   ]
  },
  {
   "cell_type": "code",
   "execution_count": 18,
   "metadata": {},
   "outputs": [
    {
     "name": "stdout",
     "output_type": "stream",
     "text": [
      "+--------------------+-----+\n",
      "|            features|label|\n",
      "+--------------------+-----+\n",
      "|(54,[0,1,2,3,5,6,...|    5|\n",
      "|(54,[0,1,2,3,4,5,...|    2|\n",
      "|(54,[0,1,2,3,4,5,...|    5|\n",
      "|(54,[0,1,2,3,4,5,...|    2|\n",
      "+--------------------+-----+\n",
      "only showing top 4 rows\n",
      "\n",
      "DataFrame[features: vector, label: int]\n"
     ]
    }
   ],
   "source": [
    "#Stratified sampling\n",
    "\n",
    "# Taking 2/3 of dataset into training set\n",
    "train = model_data.sampleBy(\"label\", fractions={1: 2/3, 2: 2/3, 3: 2/3, 4: 2/3, 5: 2/3, 6: 2/3, 7: 2/3,}, seed=10)\n",
    "train.show(4)\n",
    "\n",
    "# Subtracting 'train' from original 'data' to get test set \n",
    "test = model_data.subtract(train)\n",
    "print(test)"
   ]
  },
  {
   "cell_type": "markdown",
   "metadata": {},
   "source": [
    "___"
   ]
  },
  {
   "cell_type": "markdown",
   "metadata": {},
   "source": [
    "## 1. Random Forest Classifier\n",
    "- Quick prediction/ training speed\n",
    "- Robust to outliers and non-linear data\n",
    "- Low Bias, moderate variance"
   ]
  },
  {
   "cell_type": "code",
   "execution_count": 20,
   "metadata": {},
   "outputs": [
    {
     "name": "stdout",
     "output_type": "stream",
     "text": [
      "RandomForestClassifier_15cdb0350191\n"
     ]
    }
   ],
   "source": [
    "from pyspark.ml.classification import RandomForestClassifier\n",
    "\n",
    "\n",
    "rf = RandomForestClassifier(labelCol='label', \n",
    "                            featuresCol='features',\n",
    "                            maxDepth=3)\n",
    "print(rf)"
   ]
  },
  {
   "cell_type": "code",
   "execution_count": 21,
   "metadata": {},
   "outputs": [
    {
     "name": "stdout",
     "output_type": "stream",
     "text": [
      "RandomForestClassificationModel: uid=RandomForestClassifier_15cdb0350191, numTrees=20, numClasses=8, numFeatures=54\n"
     ]
    }
   ],
   "source": [
    "model = rf.fit(train)\n",
    "print(model)"
   ]
  },
  {
   "cell_type": "markdown",
   "metadata": {},
   "source": [
    "#### Get Predictions"
   ]
  },
  {
   "cell_type": "code",
   "execution_count": 22,
   "metadata": {},
   "outputs": [
    {
     "name": "stdout",
     "output_type": "stream",
     "text": [
      "DataFrame[features: vector, label: int, rawPrediction: vector, probability: vector, prediction: double]\n"
     ]
    }
   ],
   "source": [
    "predictions = model.transform(test)\n",
    "print(predictions)"
   ]
  },
  {
   "cell_type": "code",
   "execution_count": 23,
   "metadata": {},
   "outputs": [
    {
     "name": "stdout",
     "output_type": "stream",
     "text": [
      "MulticlassClassificationEvaluator_a767e6a06dd0\n"
     ]
    }
   ],
   "source": [
    "# Evaluate our model\n",
    "from pyspark.ml.evaluation import MulticlassClassificationEvaluator\n",
    "\n",
    "evaluator = MulticlassClassificationEvaluator(\n",
    "    labelCol='label', \n",
    "    predictionCol='prediction', \n",
    "    metricName='accuracy')\n",
    "\n",
    "print(evaluator)"
   ]
  },
  {
   "cell_type": "markdown",
   "metadata": {},
   "source": [
    "#### Test for Accuracy & Error"
   ]
  },
  {
   "cell_type": "code",
   "execution_count": 24,
   "metadata": {},
   "outputs": [
    {
     "name": "stdout",
     "output_type": "stream",
     "text": [
      "Test Accuracy (RF) =  0.5965120067856571\n",
      "Test Error (RF) = 0.403488 \n"
     ]
    }
   ],
   "source": [
    "rf_accuracy = evaluator.evaluate(predictions)\n",
    "print('Test Accuracy (RF) = ', rf_accuracy)\n",
    "print(\"Test Error (RF) = %g \" % (1.0 - rf_accuracy))"
   ]
  },
  {
   "cell_type": "markdown",
   "metadata": {},
   "source": [
    "#### Cross Validation On The Dataset With Hyperparameters"
   ]
  },
  {
   "cell_type": "code",
   "execution_count": 27,
   "metadata": {},
   "outputs": [],
   "source": [
    "paramGrid = ParamGridBuilder() \\\n",
    "                .addGrid(rf.numTrees, [1,3,5]) \\\n",
    "                .addGrid(rf.maxDepth, [5, 10, 20]) \\\n",
    "                .build()\n",
    "\n",
    "evaluator = MulticlassClassificationEvaluator()\n",
    "cv = CrossValidator(estimator=rf, estimatorParamMaps=paramGrid, evaluator=evaluator)"
   ]
  },
  {
   "cell_type": "code",
   "execution_count": 28,
   "metadata": {},
   "outputs": [
    {
     "name": "stdout",
     "output_type": "stream",
     "text": [
      "{Param(parent='RandomForestClassifier_15cdb0350191', name='numTrees', doc='Number of trees to train (>= 1).'): 1, Param(parent='RandomForestClassifier_15cdb0350191', name='maxDepth', doc='Maximum depth of the tree. (>= 0) E.g., depth 0 means 1 leaf node; depth 1 means 1 internal node + 2 leaf nodes. Must be in range [0, 30].'): 20}\n"
     ]
    }
   ],
   "source": [
    "cv_model = cv.fit(train)\n",
    "print(cv_model.getEstimatorParamMaps()[np.argmax(cv_model.avgMetrics)])"
   ]
  },
  {
   "cell_type": "markdown",
   "metadata": {},
   "source": [
    "- maxDepth and 3 different various int is used for finding the best max depth to be used.\n",
    "- numTrees with 3 different int is used to find best number of trees to be used.\n",
    "- These values are then used as an estimator for the train model."
   ]
  },
  {
   "cell_type": "markdown",
   "metadata": {},
   "source": [
    "- To get the best model, number of trees = 1 is to be used.\n",
    "- maxdepth to be used for the best model is 20\n"
   ]
  },
  {
   "cell_type": "code",
   "execution_count": 30,
   "metadata": {},
   "outputs": [
    {
     "name": "stdout",
     "output_type": "stream",
     "text": [
      "Test accuracry After Tuning (DT)=  0.8875097539227144\n",
      "Test Error after tuning (DT) = 0.11249 \n"
     ]
    }
   ],
   "source": [
    "test_results = cv_model.transform(test)\n",
    "\n",
    "# Evaluate the predictions\n",
    "print(\"Test accuracry After Tuning (DT)= \", evaluator.evaluate(test_results))\n",
    "print(\"Test Error after tuning (DT) = %g \" % (1.0 - evaluator.evaluate(test_results)))"
   ]
  },
  {
   "cell_type": "markdown",
   "metadata": {},
   "source": [
    "___"
   ]
  },
  {
   "cell_type": "markdown",
   "metadata": {},
   "source": [
    "## 2. Decision Tree Classifier\n",
    "- Easy to interpret, handle categorical features\n",
    "- Do not require feature scaling\n",
    "- Implementation partitions data by rows, allowing distributed training with millions of instances.\n",
    "\n"
   ]
  },
  {
   "cell_type": "code",
   "execution_count": 19,
   "metadata": {},
   "outputs": [],
   "source": [
    "# Import libraries\n",
    "from pyspark.ml.classification import DecisionTreeClassifier\n",
    "from pyspark.ml.feature import StringIndexer, VectorIndexer\n",
    "from pyspark.ml.evaluation import MulticlassClassificationEvaluator\n",
    "from pyspark.ml.tuning import CrossValidator, ParamGridBuilder"
   ]
  },
  {
   "cell_type": "code",
   "execution_count": 277,
   "metadata": {},
   "outputs": [
    {
     "name": "stdout",
     "output_type": "stream",
     "text": [
      "DecisionTreeClassifier_ad2d1633f1e7\n"
     ]
    }
   ],
   "source": [
    "# Train a DecisionTree model.\n",
    "dt = DecisionTreeClassifier(labelCol=\"label\", featuresCol=\"features\")\n",
    "print(dt)"
   ]
  },
  {
   "cell_type": "code",
   "execution_count": 278,
   "metadata": {},
   "outputs": [
    {
     "name": "stdout",
     "output_type": "stream",
     "text": [
      "DecisionTreeClassificationModel: uid=DecisionTreeClassifier_ad2d1633f1e7, depth=5, numNodes=41, numClasses=8, numFeatures=54\n"
     ]
    }
   ],
   "source": [
    "# Fit to training data. This also runs the indexers.\n",
    "dt_model = dt.fit(train)\n",
    "print(dt_model)"
   ]
  },
  {
   "cell_type": "markdown",
   "metadata": {},
   "source": [
    "#### Get Predictions"
   ]
  },
  {
   "cell_type": "code",
   "execution_count": 279,
   "metadata": {},
   "outputs": [
    {
     "data": {
      "text/plain": [
       "DataFrame[features: vector, label: int, rawPrediction: vector, probability: vector, prediction: double]"
      ]
     },
     "execution_count": 279,
     "metadata": {},
     "output_type": "execute_result"
    }
   ],
   "source": [
    "# Get predictions of test data\n",
    "dt_predictions = dt_model.transform(test)\n",
    "dt_predictions"
   ]
  },
  {
   "cell_type": "markdown",
   "metadata": {},
   "source": [
    "#### Test for Accuracy & Error"
   ]
  },
  {
   "cell_type": "code",
   "execution_count": 280,
   "metadata": {},
   "outputs": [
    {
     "name": "stdout",
     "output_type": "stream",
     "text": [
      "Test accuracy (DT)=  0.6995950328163063\n",
      "Test Error (DT) = 0.300405 \n"
     ]
    }
   ],
   "source": [
    "# Select (prediction, true label) and compute test error\n",
    "dt_evaluator = MulticlassClassificationEvaluator(\n",
    "                                                labelCol=\"label\", \n",
    "                                                predictionCol=\"prediction\", \n",
    "                                                metricName=\"accuracy\")\n",
    "\n",
    "# Get accuracy by passing \n",
    "dt_accuracy = dt_evaluator.evaluate(dt_predictions)\n",
    "\n",
    "# Print finding\n",
    "print(\"Test accuracy (DT)= \", dt_accuracy)\n",
    "print(\"Test Error (DT) = %g \" % (1.0 - dt_accuracy))"
   ]
  },
  {
   "cell_type": "markdown",
   "metadata": {},
   "source": [
    "#### Cross Validation On The Dataset With Hyperparameters"
   ]
  },
  {
   "cell_type": "code",
   "execution_count": 281,
   "metadata": {},
   "outputs": [],
   "source": [
    "paramGrid = ParamGridBuilder() \\\n",
    "    .addGrid(dt.maxDepth, [0, 1, 5, 10, 15, 20])\\\n",
    "    .addGrid(dt.maxBins, [2,3,4]) \\\n",
    "    .build()\n",
    "    \n",
    "cv = CrossValidator(estimator=dt, estimatorParamMaps=paramGrid, evaluator=evaluator)\n",
    "cv_model = cv.fit(train)"
   ]
  },
  {
   "cell_type": "markdown",
   "metadata": {},
   "source": [
    "- maxDepth and 6 different various int is used for finding the best depth to be used.\n",
    "- maxBins with 3 different int is used to find best max bins to be used.\n",
    "- These values are then used as an estimator for the train model."
   ]
  },
  {
   "cell_type": "markdown",
   "metadata": {},
   "source": [
    "#### Determine Best Model"
   ]
  },
  {
   "cell_type": "code",
   "execution_count": 282,
   "metadata": {},
   "outputs": [
    {
     "name": "stdout",
     "output_type": "stream",
     "text": [
      "{Param(parent='DecisionTreeClassifier_ad2d1633f1e7', name='maxDepth', doc='Maximum depth of the tree. (>= 0) E.g., depth 0 means 1 leaf node; depth 1 means 1 internal node + 2 leaf nodes. Must be in range [0, 30].'): 20, Param(parent='DecisionTreeClassifier_ad2d1633f1e7', name='maxBins', doc='Max number of bins for discretizing continuous features.  Must be >=2 and >= number of categories for any categorical feature.'): 4}\n"
     ]
    }
   ],
   "source": [
    "best_model = cv_model.bestModel\n",
    "print(cv_model.getEstimatorParamMaps()[np.argmax(cv_model.avgMetrics)])\n"
   ]
  },
  {
   "cell_type": "markdown",
   "metadata": {},
   "source": [
    "- To get the best mode, 4 bins should be used.\n",
    "- To have >= 2 and >= number of categories for any categorical feature is obtained.\n",
    "- Should be in the range of 0 to 30, 20 is optimal.\n"
   ]
  },
  {
   "cell_type": "code",
   "execution_count": 298,
   "metadata": {},
   "outputs": [
    {
     "name": "stdout",
     "output_type": "stream",
     "text": [
      "Test After Tuning (DT)=  0.8348271777976612\n",
      "Test Error (DT) = 0.165173 \n"
     ]
    }
   ],
   "source": [
    "test_results = cv_model.transform(test)\n",
    "\n",
    "# Evaluate the predictions\n",
    "print(\"Test After Tuning (DT)= \", evaluator.evaluate(test_results))\n",
    "print(\"Test Error (DT) = %g \" % (1.0 - evaluator.evaluate(test_results)))"
   ]
  },
  {
   "cell_type": "markdown",
   "metadata": {},
   "source": [
    "____"
   ]
  },
  {
   "cell_type": "markdown",
   "metadata": {},
   "source": [
    "## 3. Binomial Logistic Classifier"
   ]
  },
  {
   "cell_type": "markdown",
   "metadata": {},
   "source": [
    "- Predicts the probability of a catergotical dependant data"
   ]
  },
  {
   "cell_type": "code",
   "execution_count": null,
   "metadata": {},
   "outputs": [
    {
     "name": "stdout",
     "output_type": "stream",
     "text": [
      "LogisticRegressionModel: uid=LogisticRegression_f64beac95308, numClasses=8, numFeatures=54\n"
     ]
    }
   ],
   "source": [
    "from pyspark.ml.classification import LogisticRegression\n",
    "\n",
    "#lr = LogisticRegression(maxIter=10, regParam=0.3, elasticNetParam=0.8)\n",
    "lr = LogisticRegression(labelCol=\"label\", featuresCol=\"features\")\n",
    "\n",
    "lr_model = lr.fit(train)\n",
    "print(lr_model)"
   ]
  },
  {
   "cell_type": "code",
   "execution_count": null,
   "metadata": {},
   "outputs": [
    {
     "name": "stdout",
     "output_type": "stream",
     "text": [
      "DataFrame[features: vector, label: int, rawPrediction: vector, probability: vector, prediction: double]\n"
     ]
    }
   ],
   "source": [
    "lr_predictions = lr_model.transform(test)\n",
    "print(lr_predictions)"
   ]
  },
  {
   "cell_type": "markdown",
   "metadata": {},
   "source": [
    "#### Accuracy prediction and error testing"
   ]
  },
  {
   "cell_type": "code",
   "execution_count": 308,
   "metadata": {},
   "outputs": [
    {
     "name": "stdout",
     "output_type": "stream",
     "text": [
      "Test accuracy (LR)=  72.32155325344326\n",
      "Test Error (LR) = 27.6784 \n"
     ]
    }
   ],
   "source": [
    "lr_evaluator = MulticlassClassificationEvaluator(\n",
    "                                                labelCol=\"label\", \n",
    "                                                predictionCol=\"prediction\", \n",
    "                                                metricName=\"accuracy\")\n",
    "lr_accuracy = lr_evaluator.evaluate(lr_predictions)\n",
    "\n",
    "print(\"Test accuracy (LR)= \", (lr_accuracy*100))\n",
    "print(\"Test Error (LR) = %g \" % ((1.0 - lr_accuracy)*100))"
   ]
  },
  {
   "cell_type": "markdown",
   "metadata": {},
   "source": [
    "Hyper-tuning with maxIter and 3 int parameters and a grid with regParams"
   ]
  },
  {
   "cell_type": "code",
   "execution_count": null,
   "metadata": {},
   "outputs": [],
   "source": [
    "paramGrid = ParamGridBuilder().addGrid(lr.maxIter, [5, 10, 15])\\\n",
    "                                            .addGrid(lr.regParam, [00.1, 0.1, 1])\\\n",
    "                                            .build()"
   ]
  },
  {
   "cell_type": "code",
   "execution_count": null,
   "metadata": {},
   "outputs": [],
   "source": [
    "crossval = CrossValidator(estimator = lr, estimatorParamMaps= paramGrid, evaluator=evaluator)\n",
    "lr_cv_model = crossval.fit(train)"
   ]
  },
  {
   "cell_type": "markdown",
   "metadata": {},
   "source": [
    "### Best Model presentation"
   ]
  },
  {
   "cell_type": "code",
   "execution_count": null,
   "metadata": {},
   "outputs": [
    {
     "name": "stdout",
     "output_type": "stream",
     "text": [
      "{Param(parent='LogisticRegression_fbd26ed91af0', name='maxIter', doc='max number of iterations (>= 0).'): 10, Param(parent='LogisticRegression_fbd26ed91af0', name='regParam', doc='regularization parameter (>= 0).'): 0.1}\n"
     ]
    }
   ],
   "source": [
    "lr_best_model = lr_cv_model.bestModel\n",
    "print(lr_cv_model.getEstimatorParamMaps()[np.argmax(lr_cv_model.avgMetrics)])"
   ]
  },
  {
   "cell_type": "code",
   "execution_count": 311,
   "metadata": {},
   "outputs": [
    {
     "name": "stdout",
     "output_type": "stream",
     "text": [
      "Test After Tuning (LR)=  68.30343058407335\n",
      "Test Error (LR) = 0.316966 \n"
     ]
    }
   ],
   "source": [
    "lr_test_results = lr_cv_model.transform(test)\n",
    "\n",
    "# Evaluate the predictions\n",
    "print(\"Test After Tuning (LR)= \", evaluator.evaluate(lr_test_results)*100)\n",
    "print(\"Test Error (LR) = %g \" % (1.0 - evaluator.evaluate(lr_test_results)))"
   ]
  },
  {
   "cell_type": "markdown",
   "metadata": {},
   "source": [
    "- As seen from above after tuning, the accuracy went from 72.32% to 68.30%.\n",
    "- An decrease of 4.02% made the hyper-tuning not as effective. Hence, this classifier is not recommended"
   ]
  },
  {
   "cell_type": "markdown",
   "metadata": {},
   "source": [
    "___"
   ]
  },
  {
   "cell_type": "markdown",
   "metadata": {},
   "source": [
    "### E) Evaluate the outcomes"
   ]
  },
  {
   "cell_type": "markdown",
   "metadata": {},
   "source": [
    "##### Comparing of the 3 classification models shown above."
   ]
  },
  {
   "cell_type": "markdown",
   "metadata": {},
   "source": [
    "The models we used above are Decision Tree, Random Forest and Binomial Logistic Regression classifiers for accuracy prediction.\n",
    "\n",
    "Comparing these 3 classifiers, Binomial Logistic Regression Classifier provides a higher accuracy of prediction before hyper-tuning the parameters for the model.\n",
    "\n",
    "Hyper-tuning the parameters to find the most optimal value to be used for training dataset. It increased the accuracy for each model. After tuning, Random Forest Classifier has the highest accuracy."
   ]
  },
  {
   "cell_type": "markdown",
   "metadata": {},
   "source": [
    "___"
   ]
  },
  {
   "cell_type": "markdown",
   "metadata": {},
   "source": [
    "### Comparison"
   ]
  },
  {
   "cell_type": "markdown",
   "metadata": {},
   "source": [
    "#### Comparision of Spark MLlib and Scikit-learn, Spark MLlib is able to run ML on dataset of almost any size but it is slower for smaller data as compared to Scikit-learn.\n",
    "\n",
    "#### unlike Sckit-learn, Spark does not have as many algorithms and has a lower performance. Scikit can carry out most performance without the use of MLlib, making it easier to visualize the data as compared to Spark MLlib."
   ]
  },
  {
   "cell_type": "markdown",
   "metadata": {},
   "source": [
    "___"
   ]
  },
  {
   "cell_type": "markdown",
   "metadata": {},
   "source": []
  }
 ],
 "metadata": {
  "kernelspec": {
   "display_name": "Python 3",
   "language": "python",
   "name": "python3"
  },
  "language_info": {
   "codemirror_mode": {
    "name": "ipython",
    "version": 3
   },
   "file_extension": ".py",
   "mimetype": "text/x-python",
   "name": "python",
   "nbconvert_exporter": "python",
   "pygments_lexer": "ipython3",
   "version": "3.7.3"
  }
 },
 "nbformat": 4,
 "nbformat_minor": 2
}
